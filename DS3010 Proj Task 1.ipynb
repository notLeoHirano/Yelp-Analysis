{
 "cells": [
  {
   "cell_type": "code",
   "execution_count": 2,
   "id": "d32730a6",
   "metadata": {},
   "outputs": [],
   "source": [
    "# Import libraries and functions first\n",
    "import pandas as pd\n",
    "import numpy as np\n",
    "import seaborn as sns\n",
    "import matplotlib.pyplot as plt\n",
    "import sklearn \n",
    "from sklearn.model_selection import train_test_split\n",
    "from sklearn.base import BaseEstimator, TransformerMixin\n",
    "from sklearn.feature_extraction.text import TfidfVectorizer, CountVectorizer\n",
    "from sklearn.naive_bayes import MultinomialNB\n",
    "from sklearn.multioutput import MultiOutputClassifier\n",
    "from sklearn.pipeline import Pipeline\n",
    "from sklearn.ensemble import RandomForestClassifier\n",
    "from sklearn.preprocessing import MultiLabelBinarizer\n",
    "from sklearn.metrics import classification_report, accuracy_score, confusion_matrix\n",
    "import nltk\n",
    "from nltk.corpus import stopwords\n",
    "from nltk.tokenize import word_tokenize\n",
    "from nltk import punkt\n",
    "from collections import Counter\n",
    "from string import punctuation"
   ]
  },
  {
   "cell_type": "code",
   "execution_count": 45,
   "id": "fb51ec9c",
   "metadata": {},
   "outputs": [
    {
     "data": {
      "text/html": [
       "<div>\n",
       "<style scoped>\n",
       "    .dataframe tbody tr th:only-of-type {\n",
       "        vertical-align: middle;\n",
       "    }\n",
       "\n",
       "    .dataframe tbody tr th {\n",
       "        vertical-align: top;\n",
       "    }\n",
       "\n",
       "    .dataframe thead th {\n",
       "        text-align: right;\n",
       "    }\n",
       "</style>\n",
       "<table border=\"1\" class=\"dataframe\">\n",
       "  <thead>\n",
       "    <tr style=\"text-align: right;\">\n",
       "      <th></th>\n",
       "      <th>user_id</th>\n",
       "      <th>business_id</th>\n",
       "      <th>tip</th>\n",
       "      <th>date</th>\n",
       "      <th>compliment_count</th>\n",
       "    </tr>\n",
       "  </thead>\n",
       "  <tbody>\n",
       "    <tr>\n",
       "      <th>0</th>\n",
       "      <td>AGNUgVwnZUey3gcPCJ76iw</td>\n",
       "      <td>3uLgwr0qeCNMjKenHJwPGQ</td>\n",
       "      <td>Avengers time with the ladies.</td>\n",
       "      <td>2012-05-18 02:17:21</td>\n",
       "      <td>0</td>\n",
       "    </tr>\n",
       "    <tr>\n",
       "      <th>1</th>\n",
       "      <td>NBN4MgHP9D3cw--SnauTkA</td>\n",
       "      <td>QoezRbYQncpRqyrLH6Iqjg</td>\n",
       "      <td>They have lots of good deserts and tasty cuban...</td>\n",
       "      <td>2013-02-05 18:35:10</td>\n",
       "      <td>0</td>\n",
       "    </tr>\n",
       "    <tr>\n",
       "      <th>2</th>\n",
       "      <td>-copOvldyKh1qr-vzkDEvw</td>\n",
       "      <td>MYoRNLb5chwjQe3c_k37Gg</td>\n",
       "      <td>It's open even when you think it isn't</td>\n",
       "      <td>2013-08-18 00:56:08</td>\n",
       "      <td>0</td>\n",
       "    </tr>\n",
       "    <tr>\n",
       "      <th>3</th>\n",
       "      <td>FjMQVZjSqY8syIO-53KFKw</td>\n",
       "      <td>hV-bABTK-glh5wj31ps_Jw</td>\n",
       "      <td>Very decent fried chicken</td>\n",
       "      <td>2017-06-27 23:05:38</td>\n",
       "      <td>0</td>\n",
       "    </tr>\n",
       "    <tr>\n",
       "      <th>4</th>\n",
       "      <td>ld0AperBXk1h6UbqmM80zw</td>\n",
       "      <td>_uN0OudeJ3Zl_tf6nxg5ww</td>\n",
       "      <td>Appetizers.. platter special for lunch</td>\n",
       "      <td>2012-10-06 19:43:09</td>\n",
       "      <td>0</td>\n",
       "    </tr>\n",
       "    <tr>\n",
       "      <th>...</th>\n",
       "      <td>...</td>\n",
       "      <td>...</td>\n",
       "      <td>...</td>\n",
       "      <td>...</td>\n",
       "      <td>...</td>\n",
       "    </tr>\n",
       "    <tr>\n",
       "      <th>908910</th>\n",
       "      <td>eYodOTF8pkqKPzHkcxZs-Q</td>\n",
       "      <td>3lHTewuKFt5IImbXJoFeDQ</td>\n",
       "      <td>Disappointed in one of your managers.</td>\n",
       "      <td>2021-09-11 19:18:57</td>\n",
       "      <td>0</td>\n",
       "    </tr>\n",
       "    <tr>\n",
       "      <th>908911</th>\n",
       "      <td>1uxtQAuJ2T5Xwa_wp7kUnA</td>\n",
       "      <td>OaGf0Dp56ARhQwIDT90w_g</td>\n",
       "      <td>Great food and service.</td>\n",
       "      <td>2021-10-30 11:54:36</td>\n",
       "      <td>0</td>\n",
       "    </tr>\n",
       "    <tr>\n",
       "      <th>908912</th>\n",
       "      <td>v48Spe6WEpqehsF2xQADpg</td>\n",
       "      <td>hYnMeAO77RGyTtIzUSKYzQ</td>\n",
       "      <td>Love their Cubans!!</td>\n",
       "      <td>2021-11-05 13:18:56</td>\n",
       "      <td>0</td>\n",
       "    </tr>\n",
       "    <tr>\n",
       "      <th>908913</th>\n",
       "      <td>ckqKGM2hl7I9Chp5IpAhkw</td>\n",
       "      <td>s2eyoTuJrcP7I_XyjdhUHQ</td>\n",
       "      <td>Great pizza great price</td>\n",
       "      <td>2021-11-20 16:11:44</td>\n",
       "      <td>0</td>\n",
       "    </tr>\n",
       "    <tr>\n",
       "      <th>908914</th>\n",
       "      <td>4tF1CWdMxvvwpUIgGsDygA</td>\n",
       "      <td>_cb1Vg1NIWry8UA0jyuXnQ</td>\n",
       "      <td>Food is good value but a bit hot!</td>\n",
       "      <td>2021-12-07 22:30:00</td>\n",
       "      <td>0</td>\n",
       "    </tr>\n",
       "  </tbody>\n",
       "</table>\n",
       "<p>908915 rows × 5 columns</p>\n",
       "</div>"
      ],
      "text/plain": [
       "                       user_id             business_id  \\\n",
       "0       AGNUgVwnZUey3gcPCJ76iw  3uLgwr0qeCNMjKenHJwPGQ   \n",
       "1       NBN4MgHP9D3cw--SnauTkA  QoezRbYQncpRqyrLH6Iqjg   \n",
       "2       -copOvldyKh1qr-vzkDEvw  MYoRNLb5chwjQe3c_k37Gg   \n",
       "3       FjMQVZjSqY8syIO-53KFKw  hV-bABTK-glh5wj31ps_Jw   \n",
       "4       ld0AperBXk1h6UbqmM80zw  _uN0OudeJ3Zl_tf6nxg5ww   \n",
       "...                        ...                     ...   \n",
       "908910  eYodOTF8pkqKPzHkcxZs-Q  3lHTewuKFt5IImbXJoFeDQ   \n",
       "908911  1uxtQAuJ2T5Xwa_wp7kUnA  OaGf0Dp56ARhQwIDT90w_g   \n",
       "908912  v48Spe6WEpqehsF2xQADpg  hYnMeAO77RGyTtIzUSKYzQ   \n",
       "908913  ckqKGM2hl7I9Chp5IpAhkw  s2eyoTuJrcP7I_XyjdhUHQ   \n",
       "908914  4tF1CWdMxvvwpUIgGsDygA  _cb1Vg1NIWry8UA0jyuXnQ   \n",
       "\n",
       "                                                      tip                date  \\\n",
       "0                          Avengers time with the ladies. 2012-05-18 02:17:21   \n",
       "1       They have lots of good deserts and tasty cuban... 2013-02-05 18:35:10   \n",
       "2                  It's open even when you think it isn't 2013-08-18 00:56:08   \n",
       "3                               Very decent fried chicken 2017-06-27 23:05:38   \n",
       "4                  Appetizers.. platter special for lunch 2012-10-06 19:43:09   \n",
       "...                                                   ...                 ...   \n",
       "908910              Disappointed in one of your managers. 2021-09-11 19:18:57   \n",
       "908911                            Great food and service. 2021-10-30 11:54:36   \n",
       "908912                                Love their Cubans!! 2021-11-05 13:18:56   \n",
       "908913                            Great pizza great price 2021-11-20 16:11:44   \n",
       "908914                  Food is good value but a bit hot! 2021-12-07 22:30:00   \n",
       "\n",
       "        compliment_count  \n",
       "0                      0  \n",
       "1                      0  \n",
       "2                      0  \n",
       "3                      0  \n",
       "4                      0  \n",
       "...                  ...  \n",
       "908910                 0  \n",
       "908911                 0  \n",
       "908912                 0  \n",
       "908913                 0  \n",
       "908914                 0  \n",
       "\n",
       "[908915 rows x 5 columns]"
      ]
     },
     "metadata": {},
     "output_type": "display_data"
    },
    {
     "data": {
      "text/plain": [
       "True"
      ]
     },
     "execution_count": 45,
     "metadata": {},
     "output_type": "execute_result"
    }
   ],
   "source": [
    "# Read in businesses and AZ reviews data from kaggle\n",
    "yelp_review = pd.read_csv('yelp_review_arizona.csv')\n",
    "yelp_bus = pd.read_csv('yelp_business.csv')\n",
    "yelp_bus = yelp_bus.dropna(subset=['attributes'])"
   ]
  },
  {
   "cell_type": "code",
   "execution_count": 65,
   "id": "c9fe9954",
   "metadata": {},
   "outputs": [],
   "source": [
    "# Concatenate datasets for one larger one\n",
    "df_yelp = yelp_bus.merge(yelp_review, on='business_id')\n",
    "df_yelp.to_csv('df_yelp.csv')"
   ]
  },
  {
   "cell_type": "code",
   "execution_count": 57,
   "id": "08ae2eae",
   "metadata": {},
   "outputs": [],
   "source": [
    "# Process attributes so they are meaningful\n",
    "# Create function to convert the attribute column with an indicator so the dictionary can be searched to identify attributes\n",
    "def attribute_format(row):\n",
    "    # Initialize empty dictionary\n",
    "    attribute_dict = {}\n",
    "    \n",
    "    # Iterate through each cell (containing attribute att and indicator ind) in attribute column\n",
    "    for att, ind in row.items():\n",
    "        # Convert to lowercase and check if the value of the indicator is true or false \n",
    "        if ind in [True, False]:\n",
    "            # If indicator is true, put true in corresponding dictionary index, if not then false\n",
    "            attribute_dict[att] = (ind == True)\n",
    "        # Otherwise, just add the value to the dictionary\n",
    "        else:  \n",
    "            attribute_dict[att] = ind\n",
    "    # Return the dictionary of business attributes for the given row\n",
    "    return attribute_dict          "
   ]
  },
  {
   "cell_type": "code",
   "execution_count": 58,
   "id": "2903ad4a",
   "metadata": {},
   "outputs": [],
   "source": [
    "# Tokenize review text for proper analysis\n",
    "# Create function to process\n",
    "def preprocess_reviews(text):\n",
    "    # Tokenize text\n",
    "    tokens = word_tokenize(text)\n",
    "    \n",
    "    # Remove punctuation besides '!'\n",
    "    tokens = [token for token in tokens if token not in punctuation or token == '!']\n",
    "    \n",
    "    # Remove stop words from reviews\n",
    "    stop_wrds = set(stopwords.words('english'))\n",
    "    # Ensure to convert to lowercase when checking as it's case sensitive\n",
    "    tokens = [token for token in tokens if token.lower() not in stop_wrds]\n",
    "    \n",
    "    # Return list of tokens in corresponding cells\n",
    "    return tokens"
   ]
  },
  {
   "cell_type": "code",
   "execution_count": 59,
   "id": "dbf7a6cc",
   "metadata": {},
   "outputs": [],
   "source": [
    "# Create copy of df to edit\n",
    "df_yelp_v2 = df_yelp.copy()\n",
    "\n",
    "# Convert attribute strings to dictionaries and text to strings\n",
    "df_yelp_v2.loc[:,'attributes'] = df_yelp_v2.loc[:,'attributes'].apply(eval)\n",
    "df_yelp_v2.loc[:,'text'] = df_yelp_v2.loc[:,'text'].astype(str)\n",
    "\n",
    "# Apply functiions to format the attributes and review text\n",
    "df_yelp_v2.loc[:,'attributes'] = df_yelp_v2.loc[:,'attributes'].apply(attribute_format)\n",
    "df_yelp_v2.loc[:,'text'] = df_yelp_v2.loc[:,'text'].apply(preprocess_reviews)"
   ]
  },
  {
   "cell_type": "code",
   "execution_count": 60,
   "id": "b58ad48f",
   "metadata": {},
   "outputs": [
    {
     "data": {
      "text/html": [
       "<div>\n",
       "<style scoped>\n",
       "    .dataframe tbody tr th:only-of-type {\n",
       "        vertical-align: middle;\n",
       "    }\n",
       "\n",
       "    .dataframe tbody tr th {\n",
       "        vertical-align: top;\n",
       "    }\n",
       "\n",
       "    .dataframe thead th {\n",
       "        text-align: right;\n",
       "    }\n",
       "</style>\n",
       "<table border=\"1\" class=\"dataframe\">\n",
       "  <thead>\n",
       "    <tr style=\"text-align: right;\">\n",
       "      <th></th>\n",
       "      <th>business_id</th>\n",
       "      <th>name</th>\n",
       "      <th>address</th>\n",
       "      <th>city</th>\n",
       "      <th>state</th>\n",
       "      <th>postal_code</th>\n",
       "      <th>latitude</th>\n",
       "      <th>longitude</th>\n",
       "      <th>stars_x</th>\n",
       "      <th>review_count</th>\n",
       "      <th>is_open</th>\n",
       "      <th>attributes</th>\n",
       "      <th>categories</th>\n",
       "      <th>hours</th>\n",
       "      <th>review_id</th>\n",
       "      <th>user_id</th>\n",
       "      <th>text</th>\n",
       "      <th>stars_y</th>\n",
       "      <th>date</th>\n",
       "    </tr>\n",
       "  </thead>\n",
       "  <tbody>\n",
       "    <tr>\n",
       "      <th>0</th>\n",
       "      <td>44YFU284Z3KDEy25QyVoUw</td>\n",
       "      <td>Nee House Chinese Restaurant</td>\n",
       "      <td>13843 N Tatum Blvd, Ste 15</td>\n",
       "      <td>Phoenix</td>\n",
       "      <td>AZ</td>\n",
       "      <td>85032</td>\n",
       "      <td>33.613020</td>\n",
       "      <td>-111.977036</td>\n",
       "      <td>3.5</td>\n",
       "      <td>269</td>\n",
       "      <td>1</td>\n",
       "      <td>{'Caters': 'True', 'GoodForKids': 'True', 'Noi...</td>\n",
       "      <td>Chinese, Restaurants</td>\n",
       "      <td>{'Monday': '11:0-21:0', 'Tuesday': '11:0-21:0'...</td>\n",
       "      <td>rpeYoDzPffuEhhhTRV3S-g</td>\n",
       "      <td>77ykjIShGYAQvoTYYM7GWA</td>\n",
       "      <td>[reading, many, decent, reviews, seeing, close...</td>\n",
       "      <td>2.0</td>\n",
       "      <td>2011-10-30 03:52:38</td>\n",
       "    </tr>\n",
       "    <tr>\n",
       "      <th>1</th>\n",
       "      <td>44YFU284Z3KDEy25QyVoUw</td>\n",
       "      <td>Nee House Chinese Restaurant</td>\n",
       "      <td>13843 N Tatum Blvd, Ste 15</td>\n",
       "      <td>Phoenix</td>\n",
       "      <td>AZ</td>\n",
       "      <td>85032</td>\n",
       "      <td>33.613020</td>\n",
       "      <td>-111.977036</td>\n",
       "      <td>3.5</td>\n",
       "      <td>269</td>\n",
       "      <td>1</td>\n",
       "      <td>{'Caters': 'True', 'GoodForKids': 'True', 'Noi...</td>\n",
       "      <td>Chinese, Restaurants</td>\n",
       "      <td>{'Monday': '11:0-21:0', 'Tuesday': '11:0-21:0'...</td>\n",
       "      <td>h9GPZNKBkcuK5Ge0NAce1w</td>\n",
       "      <td>xovKY9oB8s-NjKz_I1RpHQ</td>\n",
       "      <td>[recent, lunch, Nee, House, changed, whole, op...</td>\n",
       "      <td>4.0</td>\n",
       "      <td>2010-08-27 05:59:51</td>\n",
       "    </tr>\n",
       "    <tr>\n",
       "      <th>2</th>\n",
       "      <td>44YFU284Z3KDEy25QyVoUw</td>\n",
       "      <td>Nee House Chinese Restaurant</td>\n",
       "      <td>13843 N Tatum Blvd, Ste 15</td>\n",
       "      <td>Phoenix</td>\n",
       "      <td>AZ</td>\n",
       "      <td>85032</td>\n",
       "      <td>33.613020</td>\n",
       "      <td>-111.977036</td>\n",
       "      <td>3.5</td>\n",
       "      <td>269</td>\n",
       "      <td>1</td>\n",
       "      <td>{'Caters': 'True', 'GoodForKids': 'True', 'Noi...</td>\n",
       "      <td>Chinese, Restaurants</td>\n",
       "      <td>{'Monday': '11:0-21:0', 'Tuesday': '11:0-21:0'...</td>\n",
       "      <td>kpHVcfqDakiWrcqJYAs2zg</td>\n",
       "      <td>Gfxb_D1k8tueAoGn4cseoA</td>\n",
       "      <td>['ve, coming, last, fifteen, years, since, use...</td>\n",
       "      <td>4.0</td>\n",
       "      <td>2015-04-16 22:51:03</td>\n",
       "    </tr>\n",
       "    <tr>\n",
       "      <th>3</th>\n",
       "      <td>44YFU284Z3KDEy25QyVoUw</td>\n",
       "      <td>Nee House Chinese Restaurant</td>\n",
       "      <td>13843 N Tatum Blvd, Ste 15</td>\n",
       "      <td>Phoenix</td>\n",
       "      <td>AZ</td>\n",
       "      <td>85032</td>\n",
       "      <td>33.613020</td>\n",
       "      <td>-111.977036</td>\n",
       "      <td>3.5</td>\n",
       "      <td>269</td>\n",
       "      <td>1</td>\n",
       "      <td>{'Caters': 'True', 'GoodForKids': 'True', 'Noi...</td>\n",
       "      <td>Chinese, Restaurants</td>\n",
       "      <td>{'Monday': '11:0-21:0', 'Tuesday': '11:0-21:0'...</td>\n",
       "      <td>514znlsbSlpmvXtHXOjxHQ</td>\n",
       "      <td>y9yLaWKlT2aXLBs50FGvaw</td>\n",
       "      <td>[enjoyed, lunch, Nee, House, today, restaurant...</td>\n",
       "      <td>4.0</td>\n",
       "      <td>2015-02-06 07:47:46</td>\n",
       "    </tr>\n",
       "    <tr>\n",
       "      <th>4</th>\n",
       "      <td>44YFU284Z3KDEy25QyVoUw</td>\n",
       "      <td>Nee House Chinese Restaurant</td>\n",
       "      <td>13843 N Tatum Blvd, Ste 15</td>\n",
       "      <td>Phoenix</td>\n",
       "      <td>AZ</td>\n",
       "      <td>85032</td>\n",
       "      <td>33.613020</td>\n",
       "      <td>-111.977036</td>\n",
       "      <td>3.5</td>\n",
       "      <td>269</td>\n",
       "      <td>1</td>\n",
       "      <td>{'Caters': 'True', 'GoodForKids': 'True', 'Noi...</td>\n",
       "      <td>Chinese, Restaurants</td>\n",
       "      <td>{'Monday': '11:0-21:0', 'Tuesday': '11:0-21:0'...</td>\n",
       "      <td>Tr4Fiufa6bFNmMeMEm4osQ</td>\n",
       "      <td>98n8K9brl0Dc8TocyuD1bw</td>\n",
       "      <td>[great, place, get, ordinary, Chinese, food, p...</td>\n",
       "      <td>4.0</td>\n",
       "      <td>2012-02-09 02:16:05</td>\n",
       "    </tr>\n",
       "    <tr>\n",
       "      <th>...</th>\n",
       "      <td>...</td>\n",
       "      <td>...</td>\n",
       "      <td>...</td>\n",
       "      <td>...</td>\n",
       "      <td>...</td>\n",
       "      <td>...</td>\n",
       "      <td>...</td>\n",
       "      <td>...</td>\n",
       "      <td>...</td>\n",
       "      <td>...</td>\n",
       "      <td>...</td>\n",
       "      <td>...</td>\n",
       "      <td>...</td>\n",
       "      <td>...</td>\n",
       "      <td>...</td>\n",
       "      <td>...</td>\n",
       "      <td>...</td>\n",
       "      <td>...</td>\n",
       "      <td>...</td>\n",
       "    </tr>\n",
       "    <tr>\n",
       "      <th>26601</th>\n",
       "      <td>aw0H9O1yysoHB0JanT0Ubw</td>\n",
       "      <td>Chicago Gyros</td>\n",
       "      <td>717 W Union Hills Dr, Ste 1</td>\n",
       "      <td>Phoenix</td>\n",
       "      <td>AZ</td>\n",
       "      <td>85027</td>\n",
       "      <td>33.654353</td>\n",
       "      <td>-112.083580</td>\n",
       "      <td>4.0</td>\n",
       "      <td>275</td>\n",
       "      <td>1</td>\n",
       "      <td>{'Caters': 'True', 'Ambience': '{'romantic': F...</td>\n",
       "      <td>Restaurants, Greek, Mediterranean</td>\n",
       "      <td>{'Monday': '0:0-0:0', 'Tuesday': '11:0-20:0', ...</td>\n",
       "      <td>tfMjRNHwsNvzEkg9xG-CBA</td>\n",
       "      <td>6fjsqDqQU6-Jsue9Gd9YTg</td>\n",
       "      <td>[First, thing, say, place, hard, us, nocturnal...</td>\n",
       "      <td>4.0</td>\n",
       "      <td>2010-06-18 23:08:27</td>\n",
       "    </tr>\n",
       "    <tr>\n",
       "      <th>26602</th>\n",
       "      <td>aw0H9O1yysoHB0JanT0Ubw</td>\n",
       "      <td>Chicago Gyros</td>\n",
       "      <td>717 W Union Hills Dr, Ste 1</td>\n",
       "      <td>Phoenix</td>\n",
       "      <td>AZ</td>\n",
       "      <td>85027</td>\n",
       "      <td>33.654353</td>\n",
       "      <td>-112.083580</td>\n",
       "      <td>4.0</td>\n",
       "      <td>275</td>\n",
       "      <td>1</td>\n",
       "      <td>{'Caters': 'True', 'Ambience': '{'romantic': F...</td>\n",
       "      <td>Restaurants, Greek, Mediterranean</td>\n",
       "      <td>{'Monday': '0:0-0:0', 'Tuesday': '11:0-20:0', ...</td>\n",
       "      <td>4RcsWd-UMk1I1bcX3gipLw</td>\n",
       "      <td>SaL1BUnJes5SCmqm5rufdQ</td>\n",
       "      <td>[God, love, place, craving, place, addicted, c...</td>\n",
       "      <td>5.0</td>\n",
       "      <td>2011-11-12 01:06:39</td>\n",
       "    </tr>\n",
       "    <tr>\n",
       "      <th>26603</th>\n",
       "      <td>aw0H9O1yysoHB0JanT0Ubw</td>\n",
       "      <td>Chicago Gyros</td>\n",
       "      <td>717 W Union Hills Dr, Ste 1</td>\n",
       "      <td>Phoenix</td>\n",
       "      <td>AZ</td>\n",
       "      <td>85027</td>\n",
       "      <td>33.654353</td>\n",
       "      <td>-112.083580</td>\n",
       "      <td>4.0</td>\n",
       "      <td>275</td>\n",
       "      <td>1</td>\n",
       "      <td>{'Caters': 'True', 'Ambience': '{'romantic': F...</td>\n",
       "      <td>Restaurants, Greek, Mediterranean</td>\n",
       "      <td>{'Monday': '0:0-0:0', 'Tuesday': '11:0-20:0', ...</td>\n",
       "      <td>SfXqwoFIoM0tGldflR5ivQ</td>\n",
       "      <td>oWd7wL340Z9JiGf5Wu_bSQ</td>\n",
       "      <td>[Nice, little, place, 'm, big, gyro, fan, wife...</td>\n",
       "      <td>4.0</td>\n",
       "      <td>2010-08-04 18:45:05</td>\n",
       "    </tr>\n",
       "    <tr>\n",
       "      <th>26604</th>\n",
       "      <td>aw0H9O1yysoHB0JanT0Ubw</td>\n",
       "      <td>Chicago Gyros</td>\n",
       "      <td>717 W Union Hills Dr, Ste 1</td>\n",
       "      <td>Phoenix</td>\n",
       "      <td>AZ</td>\n",
       "      <td>85027</td>\n",
       "      <td>33.654353</td>\n",
       "      <td>-112.083580</td>\n",
       "      <td>4.0</td>\n",
       "      <td>275</td>\n",
       "      <td>1</td>\n",
       "      <td>{'Caters': 'True', 'Ambience': '{'romantic': F...</td>\n",
       "      <td>Restaurants, Greek, Mediterranean</td>\n",
       "      <td>{'Monday': '0:0-0:0', 'Tuesday': '11:0-20:0', ...</td>\n",
       "      <td>zkPVP8PjZlZKALIUugaE3g</td>\n",
       "      <td>1i3WvtGsIW8FGOFLvHHFMw</td>\n",
       "      <td>['ve, ordering, delivery, place, several, time...</td>\n",
       "      <td>5.0</td>\n",
       "      <td>2016-08-23 03:30:10</td>\n",
       "    </tr>\n",
       "    <tr>\n",
       "      <th>26605</th>\n",
       "      <td>aw0H9O1yysoHB0JanT0Ubw</td>\n",
       "      <td>Chicago Gyros</td>\n",
       "      <td>717 W Union Hills Dr, Ste 1</td>\n",
       "      <td>Phoenix</td>\n",
       "      <td>AZ</td>\n",
       "      <td>85027</td>\n",
       "      <td>33.654353</td>\n",
       "      <td>-112.083580</td>\n",
       "      <td>4.0</td>\n",
       "      <td>275</td>\n",
       "      <td>1</td>\n",
       "      <td>{'Caters': 'True', 'Ambience': '{'romantic': F...</td>\n",
       "      <td>Restaurants, Greek, Mediterranean</td>\n",
       "      <td>{'Monday': '0:0-0:0', 'Tuesday': '11:0-20:0', ...</td>\n",
       "      <td>XVUIUqG2gSmdWHJ0ZmYYzg</td>\n",
       "      <td>DSpFOTOSCAh3LEv3L1fPPQ</td>\n",
       "      <td>[Yes, place, called, Chicago, GYROS, ..., 'm, ...</td>\n",
       "      <td>4.0</td>\n",
       "      <td>2012-06-21 01:54:45</td>\n",
       "    </tr>\n",
       "  </tbody>\n",
       "</table>\n",
       "<p>26606 rows × 19 columns</p>\n",
       "</div>"
      ],
      "text/plain": [
       "                  business_id                          name  \\\n",
       "0      44YFU284Z3KDEy25QyVoUw  Nee House Chinese Restaurant   \n",
       "1      44YFU284Z3KDEy25QyVoUw  Nee House Chinese Restaurant   \n",
       "2      44YFU284Z3KDEy25QyVoUw  Nee House Chinese Restaurant   \n",
       "3      44YFU284Z3KDEy25QyVoUw  Nee House Chinese Restaurant   \n",
       "4      44YFU284Z3KDEy25QyVoUw  Nee House Chinese Restaurant   \n",
       "...                       ...                           ...   \n",
       "26601  aw0H9O1yysoHB0JanT0Ubw                 Chicago Gyros   \n",
       "26602  aw0H9O1yysoHB0JanT0Ubw                 Chicago Gyros   \n",
       "26603  aw0H9O1yysoHB0JanT0Ubw                 Chicago Gyros   \n",
       "26604  aw0H9O1yysoHB0JanT0Ubw                 Chicago Gyros   \n",
       "26605  aw0H9O1yysoHB0JanT0Ubw                 Chicago Gyros   \n",
       "\n",
       "                           address     city state postal_code   latitude  \\\n",
       "0       13843 N Tatum Blvd, Ste 15  Phoenix    AZ       85032  33.613020   \n",
       "1       13843 N Tatum Blvd, Ste 15  Phoenix    AZ       85032  33.613020   \n",
       "2       13843 N Tatum Blvd, Ste 15  Phoenix    AZ       85032  33.613020   \n",
       "3       13843 N Tatum Blvd, Ste 15  Phoenix    AZ       85032  33.613020   \n",
       "4       13843 N Tatum Blvd, Ste 15  Phoenix    AZ       85032  33.613020   \n",
       "...                            ...      ...   ...         ...        ...   \n",
       "26601  717 W Union Hills Dr, Ste 1  Phoenix    AZ       85027  33.654353   \n",
       "26602  717 W Union Hills Dr, Ste 1  Phoenix    AZ       85027  33.654353   \n",
       "26603  717 W Union Hills Dr, Ste 1  Phoenix    AZ       85027  33.654353   \n",
       "26604  717 W Union Hills Dr, Ste 1  Phoenix    AZ       85027  33.654353   \n",
       "26605  717 W Union Hills Dr, Ste 1  Phoenix    AZ       85027  33.654353   \n",
       "\n",
       "        longitude  stars_x  review_count  is_open  \\\n",
       "0     -111.977036      3.5           269        1   \n",
       "1     -111.977036      3.5           269        1   \n",
       "2     -111.977036      3.5           269        1   \n",
       "3     -111.977036      3.5           269        1   \n",
       "4     -111.977036      3.5           269        1   \n",
       "...           ...      ...           ...      ...   \n",
       "26601 -112.083580      4.0           275        1   \n",
       "26602 -112.083580      4.0           275        1   \n",
       "26603 -112.083580      4.0           275        1   \n",
       "26604 -112.083580      4.0           275        1   \n",
       "26605 -112.083580      4.0           275        1   \n",
       "\n",
       "                                              attributes  \\\n",
       "0      {'Caters': 'True', 'GoodForKids': 'True', 'Noi...   \n",
       "1      {'Caters': 'True', 'GoodForKids': 'True', 'Noi...   \n",
       "2      {'Caters': 'True', 'GoodForKids': 'True', 'Noi...   \n",
       "3      {'Caters': 'True', 'GoodForKids': 'True', 'Noi...   \n",
       "4      {'Caters': 'True', 'GoodForKids': 'True', 'Noi...   \n",
       "...                                                  ...   \n",
       "26601  {'Caters': 'True', 'Ambience': '{'romantic': F...   \n",
       "26602  {'Caters': 'True', 'Ambience': '{'romantic': F...   \n",
       "26603  {'Caters': 'True', 'Ambience': '{'romantic': F...   \n",
       "26604  {'Caters': 'True', 'Ambience': '{'romantic': F...   \n",
       "26605  {'Caters': 'True', 'Ambience': '{'romantic': F...   \n",
       "\n",
       "                              categories  \\\n",
       "0                   Chinese, Restaurants   \n",
       "1                   Chinese, Restaurants   \n",
       "2                   Chinese, Restaurants   \n",
       "3                   Chinese, Restaurants   \n",
       "4                   Chinese, Restaurants   \n",
       "...                                  ...   \n",
       "26601  Restaurants, Greek, Mediterranean   \n",
       "26602  Restaurants, Greek, Mediterranean   \n",
       "26603  Restaurants, Greek, Mediterranean   \n",
       "26604  Restaurants, Greek, Mediterranean   \n",
       "26605  Restaurants, Greek, Mediterranean   \n",
       "\n",
       "                                                   hours  \\\n",
       "0      {'Monday': '11:0-21:0', 'Tuesday': '11:0-21:0'...   \n",
       "1      {'Monday': '11:0-21:0', 'Tuesday': '11:0-21:0'...   \n",
       "2      {'Monday': '11:0-21:0', 'Tuesday': '11:0-21:0'...   \n",
       "3      {'Monday': '11:0-21:0', 'Tuesday': '11:0-21:0'...   \n",
       "4      {'Monday': '11:0-21:0', 'Tuesday': '11:0-21:0'...   \n",
       "...                                                  ...   \n",
       "26601  {'Monday': '0:0-0:0', 'Tuesday': '11:0-20:0', ...   \n",
       "26602  {'Monday': '0:0-0:0', 'Tuesday': '11:0-20:0', ...   \n",
       "26603  {'Monday': '0:0-0:0', 'Tuesday': '11:0-20:0', ...   \n",
       "26604  {'Monday': '0:0-0:0', 'Tuesday': '11:0-20:0', ...   \n",
       "26605  {'Monday': '0:0-0:0', 'Tuesday': '11:0-20:0', ...   \n",
       "\n",
       "                    review_id                 user_id  \\\n",
       "0      rpeYoDzPffuEhhhTRV3S-g  77ykjIShGYAQvoTYYM7GWA   \n",
       "1      h9GPZNKBkcuK5Ge0NAce1w  xovKY9oB8s-NjKz_I1RpHQ   \n",
       "2      kpHVcfqDakiWrcqJYAs2zg  Gfxb_D1k8tueAoGn4cseoA   \n",
       "3      514znlsbSlpmvXtHXOjxHQ  y9yLaWKlT2aXLBs50FGvaw   \n",
       "4      Tr4Fiufa6bFNmMeMEm4osQ  98n8K9brl0Dc8TocyuD1bw   \n",
       "...                       ...                     ...   \n",
       "26601  tfMjRNHwsNvzEkg9xG-CBA  6fjsqDqQU6-Jsue9Gd9YTg   \n",
       "26602  4RcsWd-UMk1I1bcX3gipLw  SaL1BUnJes5SCmqm5rufdQ   \n",
       "26603  SfXqwoFIoM0tGldflR5ivQ  oWd7wL340Z9JiGf5Wu_bSQ   \n",
       "26604  zkPVP8PjZlZKALIUugaE3g  1i3WvtGsIW8FGOFLvHHFMw   \n",
       "26605  XVUIUqG2gSmdWHJ0ZmYYzg  DSpFOTOSCAh3LEv3L1fPPQ   \n",
       "\n",
       "                                                    text  stars_y  \\\n",
       "0      [reading, many, decent, reviews, seeing, close...      2.0   \n",
       "1      [recent, lunch, Nee, House, changed, whole, op...      4.0   \n",
       "2      ['ve, coming, last, fifteen, years, since, use...      4.0   \n",
       "3      [enjoyed, lunch, Nee, House, today, restaurant...      4.0   \n",
       "4      [great, place, get, ordinary, Chinese, food, p...      4.0   \n",
       "...                                                  ...      ...   \n",
       "26601  [First, thing, say, place, hard, us, nocturnal...      4.0   \n",
       "26602  [God, love, place, craving, place, addicted, c...      5.0   \n",
       "26603  [Nice, little, place, 'm, big, gyro, fan, wife...      4.0   \n",
       "26604  ['ve, ordering, delivery, place, several, time...      5.0   \n",
       "26605  [Yes, place, called, Chicago, GYROS, ..., 'm, ...      4.0   \n",
       "\n",
       "                      date  \n",
       "0      2011-10-30 03:52:38  \n",
       "1      2010-08-27 05:59:51  \n",
       "2      2015-04-16 22:51:03  \n",
       "3      2015-02-06 07:47:46  \n",
       "4      2012-02-09 02:16:05  \n",
       "...                    ...  \n",
       "26601  2010-06-18 23:08:27  \n",
       "26602  2011-11-12 01:06:39  \n",
       "26603  2010-08-04 18:45:05  \n",
       "26604  2016-08-23 03:30:10  \n",
       "26605  2012-06-21 01:54:45  \n",
       "\n",
       "[26606 rows x 19 columns]"
      ]
     },
     "metadata": {},
     "output_type": "display_data"
    }
   ],
   "source": [
    "# Take a peek at the dataset!\n",
    "display(df_yelp_v2)"
   ]
  },
  {
   "cell_type": "code",
   "execution_count": 69,
   "id": "975d1258",
   "metadata": {},
   "outputs": [
    {
     "data": {
      "text/plain": [
       "['BusinessAcceptsCreditCards',\n",
       " 'RestaurantsPriceRange2',\n",
       " 'BusinessParking',\n",
       " 'BikeParking',\n",
       " 'RestaurantsTakeOut',\n",
       " 'WiFi',\n",
       " 'Caters',\n",
       " 'OutdoorSeating',\n",
       " 'Alcohol',\n",
       " 'HasTV']"
      ]
     },
     "metadata": {},
     "output_type": "display_data"
    }
   ],
   "source": [
    "# Count attribute frequencies across the entire dataset and get top 10\n",
    "all_attributes = [attr for attrs in df_yelp_v2['attributes'] for attr in attrs]\n",
    "top_10_att = [attr for attr, _ in Counter(all_attributes).most_common(10)]\n",
    "display(top_10_att)\n",
    "# Modify the 'attributes' column to include only the top 10 attributes\n",
    "df_yelp_v2['attributes_top_10'] = df_yelp_v2['attributes'].apply(lambda attrs: {attr: value for attr, value in attrs.items() if attr in top_10_att})"
   ]
  },
  {
   "cell_type": "code",
   "execution_count": 97,
   "id": "66823b1f",
   "metadata": {},
   "outputs": [
    {
     "data": {
      "text/plain": [
       "0        [reading, many, decent, reviews, seeing, close...\n",
       "1        [recent, lunch, Nee, House, changed, whole, op...\n",
       "2        ['ve, coming, last, fifteen, years, since, use...\n",
       "3        [enjoyed, lunch, Nee, House, today, restaurant...\n",
       "4        [great, place, get, ordinary, Chinese, food, p...\n",
       "                               ...                        \n",
       "26601    [First, thing, say, place, hard, us, nocturnal...\n",
       "26602    [God, love, place, craving, place, addicted, c...\n",
       "26603    [Nice, little, place, 'm, big, gyro, fan, wife...\n",
       "26604    ['ve, ordering, delivery, place, several, time...\n",
       "26605    [Yes, place, called, Chicago, GYROS, ..., 'm, ...\n",
       "Name: text, Length: 26606, dtype: object"
      ]
     },
     "metadata": {},
     "output_type": "display_data"
    },
    {
     "data": {
      "text/plain": [
       "0        {'Caters': 'True', 'RestaurantsPriceRange2': '...\n",
       "1        {'Caters': 'True', 'RestaurantsPriceRange2': '...\n",
       "2        {'Caters': 'True', 'RestaurantsPriceRange2': '...\n",
       "3        {'Caters': 'True', 'RestaurantsPriceRange2': '...\n",
       "4        {'Caters': 'True', 'RestaurantsPriceRange2': '...\n",
       "                               ...                        \n",
       "26601    {'Caters': 'True', 'BusinessAcceptsCreditCards...\n",
       "26602    {'Caters': 'True', 'BusinessAcceptsCreditCards...\n",
       "26603    {'Caters': 'True', 'BusinessAcceptsCreditCards...\n",
       "26604    {'Caters': 'True', 'BusinessAcceptsCreditCards...\n",
       "26605    {'Caters': 'True', 'BusinessAcceptsCreditCards...\n",
       "Name: attributes_top_10, Length: 26606, dtype: object"
      ]
     },
     "metadata": {},
     "output_type": "display_data"
    }
   ],
   "source": [
    "# Define reviews and the attributes from the data\n",
    "reviews = df_yelp_v2['text']\n",
    "attributes = df_yelp_v2['attributes_top_10']\n",
    "\n",
    "display(reviews)\n",
    "display(attributes)"
   ]
  },
  {
   "cell_type": "code",
   "execution_count": 73,
   "id": "0e330bf5",
   "metadata": {},
   "outputs": [],
   "source": [
    "# Create testing and training sets\n",
    "train_x, test_x, train_y, test_y = train_test_split(reviews, attributes, test_size=0.2, random_state=25)\n",
    "\n"
   ]
  },
  {
   "cell_type": "code",
   "execution_count": 74,
   "id": "1333aaaf",
   "metadata": {},
   "outputs": [
    {
     "name": "stdout",
     "output_type": "stream",
     "text": [
      "Random Forest Accuracy: 0.9430665163472379\n"
     ]
    }
   ],
   "source": [
    "# Convert list of tokens to strings\n",
    "train_x_strings = [' '.join(tokens) for tokens in train_x]\n",
    "test_x_strings = [' '.join(tokens) for tokens in test_x]  # Ensure test data is preprocessed similarly\n",
    "\n",
    "# Feature Extraction with TfidfVectorizer\n",
    "tfidf_vectorizer = TfidfVectorizer(max_features=10000)\n",
    "train_x_tfidf = tfidf_vectorizer.fit_transform(train_x_strings)\n",
    "test_x_tfidf = tfidf_vectorizer.transform(test_x_strings)  # Use transform for test data\n",
    "\n",
    "# Preprocessing for train_y \n",
    "mlb = MultiLabelBinarizer()\n",
    "y_binary_train = mlb.fit_transform([list(y.keys()) for y in train_y])\n",
    "\n",
    "# Training Random Forest classifier\n",
    "classifier = RandomForestClassifier(n_estimators=200, random_state=25)\n",
    "classifier.fit(train_x_tfidf, y_binary_train)\n",
    "\n",
    "# Predict on test_x_tfidf\n",
    "predicted_attributes = classifier.predict(test_x_tfidf)\n",
    "\n",
    "# Convert the actual test_y to binary format using MultiLabelBinarizer fitted on train_y\n",
    "y_binary_test = mlb.transform([list(y.keys()) for y in test_y])\n",
    "\n",
    "# Calculate accuracy\n",
    "accuracy = accuracy_score(y_binary_test, predicted_attributes)\n",
    "print(\"Random Forest Accuracy:\", accuracy)"
   ]
  },
  {
   "cell_type": "code",
   "execution_count": 94,
   "id": "9fe7c891",
   "metadata": {},
   "outputs": [
    {
     "name": "stdout",
     "output_type": "stream",
     "text": [
      "{'RestaurantsTakeOut', 'BusinessAcceptsCreditCards', 'BikeParking', 'RestaurantsPriceRange2', 'BusinessParking', 'Alcohol', 'HasTV', 'Caters', 'WiFi', 'OutdoorSeating'}\n"
     ]
    }
   ],
   "source": [
    "# Determine labels so confusion matrix results are more interpretable\n",
    "# What's popular?\n",
    "pop_attributes = set(label for labels in mlb.inverse_transform(y_binary_test) for label in labels)\n",
    "print(pop_attributes)\n"
   ]
  },
  {
   "cell_type": "code",
   "execution_count": 99,
   "id": "eae759cd",
   "metadata": {},
   "outputs": [
    {
     "data": {
      "image/png": "[encoded data removed]",
      "text/plain": [
       "<Figure size 432x288 with 1 Axes>"
      ]
     },
     "metadata": {
      "needs_background": "light"
     },
     "output_type": "display_data"
    },
    {
     "data": {
      "text/plain": [
       "<Figure size 360x360 with 0 Axes>"
      ]
     },
     "metadata": {},
     "output_type": "display_data"
    },
    {
     "data": {
      "image/png": "[encoded data removed]",
      "text/plain": [
       "<Figure size 432x288 with 1 Axes>"
      ]
     },
     "metadata": {
      "needs_background": "light"
     },
     "output_type": "display_data"
    },
    {
     "data": {
      "text/plain": [
       "<Figure size 360x360 with 0 Axes>"
      ]
     },
     "metadata": {},
     "output_type": "display_data"
    },
    {
     "data": {
      "image/png": "[encoded data removed]",
      "text/plain": [
       "<Figure size 432x288 with 1 Axes>"
      ]
     },
     "metadata": {
      "needs_background": "light"
     },
     "output_type": "display_data"
    },
    {
     "data": {
      "text/plain": [
       "<Figure size 360x360 with 0 Axes>"
      ]
     },
     "metadata": {},
     "output_type": "display_data"
    },
    {
     "data": {
      "image/png": "[encoded data removed]",
      "text/plain": [
       "<Figure size 432x288 with 1 Axes>"
      ]
     },
     "metadata": {
      "needs_background": "light"
     },
     "output_type": "display_data"
    },
    {
     "data": {
      "text/plain": [
       "<Figure size 360x360 with 0 Axes>"
      ]
     },
     "metadata": {},
     "output_type": "display_data"
    },
    {
     "data": {
      "image/png": "[encoded data removed]",
      "text/plain": [
       "<Figure size 432x288 with 1 Axes>"
      ]
     },
     "metadata": {
      "needs_background": "light"
     },
     "output_type": "display_data"
    },
    {
     "data": {
      "text/plain": [
       "<Figure size 360x360 with 0 Axes>"
      ]
     },
     "metadata": {},
     "output_type": "display_data"
    },
    {
     "data": {
      "image/png": "[encoded data removed]",
      "text/plain": [
       "<Figure size 432x288 with 1 Axes>"
      ]
     },
     "metadata": {
      "needs_background": "light"
     },
     "output_type": "display_data"
    },
    {
     "data": {
      "text/plain": [
       "<Figure size 360x360 with 0 Axes>"
      ]
     },
     "metadata": {},
     "output_type": "display_data"
    },
    {
     "data": {
      "image/png": "[encoded data removed]",
      "text/plain": [
       "<Figure size 432x288 with 1 Axes>"
      ]
     },
     "metadata": {
      "needs_background": "light"
     },
     "output_type": "display_data"
    },
    {
     "data": {
      "text/plain": [
       "<Figure size 360x360 with 0 Axes>"
      ]
     },
     "metadata": {},
     "output_type": "display_data"
    },
    {
     "data": {
      "image/png": "[encoded data removed]",
      "text/plain": [
       "<Figure size 432x288 with 1 Axes>"
      ]
     },
     "metadata": {
      "needs_background": "light"
     },
     "output_type": "display_data"
    },
    {
     "data": {
      "text/plain": [
       "<Figure size 360x360 with 0 Axes>"
      ]
     },
     "metadata": {},
     "output_type": "display_data"
    },
    {
     "data": {
      "image/png": "[encoded data removed]",
      "text/plain": [
       "<Figure size 432x288 with 1 Axes>"
      ]
     },
     "metadata": {
      "needs_background": "light"
     },
     "output_type": "display_data"
    },
    {
     "data": {
      "text/plain": [
       "<Figure size 360x360 with 0 Axes>"
      ]
     },
     "metadata": {},
     "output_type": "display_data"
    },
    {
     "data": {
      "image/png": "[encoded data removed]",
      "text/plain": [
       "<Figure size 432x288 with 1 Axes>"
      ]
     },
     "metadata": {
      "needs_background": "light"
     },
     "output_type": "display_data"
    },
    {
     "data": {
      "text/plain": [
       "<Figure size 360x360 with 0 Axes>"
      ]
     },
     "metadata": {},
     "output_type": "display_data"
    }
   ],
   "source": [
    "from sklearn.metrics import multilabel_confusion_matrix\n",
    "\n",
    "# Build confusion matrix for random forest model\n",
    "conf_mat = multilabel_confusion_matrix(y_binary_test, predicted_attributes)\n",
    "\n",
    "# Function to display all matrices for all attributes in top 10\n",
    "for attr, conf_mat in zip(pop_attributes, conf_mat):\n",
    "    # Display confusion matrix as heatmap for interpretation\n",
    "    sns.heatmap(conf_mat, annot=True, cmap='Reds', cbar=False)\n",
    "\n",
    "    # Axis labels\n",
    "    plt.xlabel('Predicted Value')\n",
    "    plt.ylabel('True Value')\n",
    "\n",
    "    # Title label\n",
    "    plt.title(f'Confusion Matrix for Attribute {attr}') # so we can understand each attribute it's associated with\n",
    "\n",
    "    # Adjust fig size and display plot\n",
    "    plt.figure(figsize=(5,5))\n",
    "    plt.show()"
   ]
  },
  {
   "cell_type": "code",
   "execution_count": null,
   "id": "ddce91bc",
   "metadata": {},
   "outputs": [],
   "source": []
  }
 ],
 "metadata": {
  "kernelspec": {
   "display_name": "Python 3 (ipykernel)",
   "language": "python",
   "name": "python3"
  },
  "language_info": {
   "codemirror_mode": {
    "name": "ipython",
    "version": 3
   },
   "file_extension": ".py",
   "mimetype": "text/x-python",
   "name": "python",
   "nbconvert_exporter": "python",
   "pygments_lexer": "ipython3",
   "version": "3.9.12"
  }
 },
 "nbformat": 4,
 "nbformat_minor": 5
}
