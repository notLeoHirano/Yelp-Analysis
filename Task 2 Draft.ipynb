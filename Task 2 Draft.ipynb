{
 "cells": [
  {
   "cell_type": "code",
   "execution_count": 2,
   "metadata": {},
   "outputs": [
    {
     "ename": "SyntaxError",
     "evalue": "invalid syntax (2286829093.py, line 6)",
     "output_type": "error",
     "traceback": [
      "\u001b[1;36m  Cell \u001b[1;32mIn[2], line 6\u001b[1;36m\u001b[0m\n\u001b[1;33m    &nbsp;data.append(json.loads(line))\u001b[0m\n\u001b[1;37m    ^\u001b[0m\n\u001b[1;31mSyntaxError\u001b[0m\u001b[1;31m:\u001b[0m invalid syntax\n"
     ]
    }
   ],
   "source": [
    "import pandas as pd\n",
    "business_json_path = 'data/yelp_academic_dataset_business.json'\n",
    "df_b = pd.read_json(business_json_path, lines=True)\n",
    "\n",
    "# 1 = open, 0 = closed\n",
    "df_b = df_b[df_b['is_open']==1]\n",
    "\n",
    "drop_columns = ['hours','is_open','review_count']\n",
    "df_b = df_b.drop(drop_columns, axis=1)\n",
    "\n",
    "business_RV = df_b[df_b['categories'].str.contains(\n",
    "              'RV Repair|RV Dealers|RV Rental|RV Parks|Campgrounds',\n",
    "              case=False, na=False)]\n",
    "\n",
    "df_explode = df_b.assign(categories = df_b.categories\n",
    "                         .str.split(', ')).explode('categories')\n",
    "\n",
    "df_explode.categories.value_counts()\n",
    "\n",
    "df_explode[df_explode.categories.str.contains('RV',\n",
    "                      case=True,na=False)].categories.value_counts()\n",
    "\n",
    "review_json_path = 'data/yelp_academic_dataset_review.json'\n",
    "size = 1000000\n",
    "review = pd.read_json(review_json_path, lines=True,\n",
    "                      dtype={'review_id':str,'user_id':str,\n",
    "                             'business_id':str,'stars':int,\n",
    "                             'date':str,'text':str,'useful':int,\n",
    "                             'funny':int,'cool':int},\n",
    "                      chunksize=size)\n",
    "\n",
    "\n",
    "chunk_list = []\n",
    "for chunk_review in review:\n",
    "    # Drop columns that aren't needed\n",
    "    chunk_review = chunk_review.drop(['review_id','useful','funny','cool'], axis=1)\n",
    "    # Renaming column name to avoid conflict with business overall star rating\n",
    "    chunk_review = chunk_review.rename(columns={'stars': 'review_stars'})\n",
    "    # Inner merge with edited business file so only reviews related to the business remain\n",
    "    chunk_merged = pd.merge(business_RV, chunk_review, on='business_id', how='inner')\n",
    "    # Show feedback on progress\n",
    "    print(f\"{chunk_merged.shape[0]} out of {size:,} related reviews\")\n",
    "    chunk_list.append(chunk_merged)\n",
    "# After trimming down the review file, concatenate all relevant data back to one dataframe\n",
    "df = pd.concat(chunk_list, ignore_index=True, join='outer', axis=0)\n",
    "\n",
    "csv_name = \"yelp_reviews_RV_categories.csv\"\n",
    "df.to_csv(csv_name, index=False)"
   ]
  }
 ],
 "metadata": {
  "kernelspec": {
   "display_name": "Python 3",
   "language": "python",
   "name": "python3"
  },
  "language_info": {
   "codemirror_mode": {
    "name": "ipython",
    "version": 3
   },
   "file_extension": ".py",
   "mimetype": "text/x-python",
   "name": "python",
   "nbconvert_exporter": "python",
   "pygments_lexer": "ipython3",
   "version": "3.12.2"
  }
 },
 "nbformat": 4,
 "nbformat_minor": 2
}
